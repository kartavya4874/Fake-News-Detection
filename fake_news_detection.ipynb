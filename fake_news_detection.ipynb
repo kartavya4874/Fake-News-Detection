{
 "cells": [
  {
   "cell_type": "code",
   "execution_count": null,
   "id": "34e9aa2b-ff84-457b-90b7-5a1ec7586851",
   "metadata": {},
   "outputs": [],
   "source": [
    "import pandas as pd\n",
    "import numpy as np\n",
    "import matplotlib.pyplot as plt\n",
    "import seaborn as sns\n",
    "from sklearn.metrics import accuracy_score\n",
    "from sklearn.metrics import classification_report\n",
    "from sklearn.model_selection import train_test_split\n",
    "import re\n",
    "import string"
   ]
  },
  {
   "cell_type": "code",
   "execution_count": null,
   "id": "828ce3fc-77f8-472e-978c-e001806ede41",
   "metadata": {},
   "outputs": [],
   "source": [
    "pip install pandas"
   ]
  },
  {
   "cell_type": "code",
   "execution_count": null,
   "id": "abff1fca-f971-40f1-9b24-1bd9af843b08",
   "metadata": {},
   "outputs": [],
   "source": [
    "pip install Numpy"
   ]
  },
  {
   "cell_type": "code",
   "execution_count": null,
   "id": "f7dee3b9-8af5-4c58-aaf9-669c09fde189",
   "metadata": {},
   "outputs": [],
   "source": [
    "data_fake=pd.read_csv(\"E:/Brain/Fake.csv\")\n",
    "data_true=pd.read_csv(\"E:/Brain/True.csv\")"
   ]
  },
  {
   "cell_type": "code",
   "execution_count": null,
   "id": "c41e677d-b439-402a-ba6b-ea40bbcb962a",
   "metadata": {},
   "outputs": [],
   "source": [
    "data_fake.head()"
   ]
  },
  {
   "cell_type": "code",
   "execution_count": null,
   "id": "57f69185-03a7-4170-a485-80ea0a219b8e",
   "metadata": {},
   "outputs": [],
   "source": [
    "data_true.head()"
   ]
  },
  {
   "cell_type": "code",
   "execution_count": null,
   "id": "f556c5ff-4b29-4026-b2b3-636e0660979d",
   "metadata": {},
   "outputs": [],
   "source": [
    "data_fake['class']=0\n",
    "data_true['class']=1"
   ]
  },
  {
   "cell_type": "code",
   "execution_count": null,
   "id": "0b38e033-d40c-4717-b0b0-987c3839e16f",
   "metadata": {},
   "outputs": [],
   "source": [
    "data_fake.shape,data_true.shape"
   ]
  },
  {
   "cell_type": "code",
   "execution_count": null,
   "id": "16253a1b-58a6-4abf-bd3c-6dcf1a28e774",
   "metadata": {},
   "outputs": [],
   "source": [
    "data_fake_manual_testing = data_fake.tail(10)\n",
    "for i in range(23480, 23470, -1):\n",
    "    data_fake.drop([i], axis=0, inplace=True)\n",
    "\n",
    "data_true_manual_testing = data_true.tail(10)\n",
    "for i in range(21416, 21406, -1):\n",
    "    data_true.drop([i], axis=0, inplace=True)\n",
    "    data_fake.drop([i], axis=0, inplace=True)  # Make sure you want to drop from both dataframes here\n"
   ]
  },
  {
   "cell_type": "code",
   "execution_count": null,
   "id": "5914cbee-ce8f-48c7-90c9-47efc4b64d69",
   "metadata": {},
   "outputs": [],
   "source": [
    "data_fake.shape,data_true.shape"
   ]
  },
  {
   "cell_type": "code",
   "execution_count": null,
   "id": "7ee8676a-eb3b-442d-ae03-596d152b2f31",
   "metadata": {},
   "outputs": [],
   "source": [
    "data_fake_manual_testing.loc[:, 'class'] = 0\n",
    "data_true_manual_testing.loc[:, 'class'] = 1\n",
    "\n",
    "\n"
   ]
  },
  {
   "cell_type": "code",
   "execution_count": null,
   "id": "bb69c57b-48c0-4f26-af89-2bca4ff2e91b",
   "metadata": {},
   "outputs": [],
   "source": [
    "data_fake_manual_testing.head(10)\n",
    "\n"
   ]
  },
  {
   "cell_type": "code",
   "execution_count": null,
   "id": "abb25563-7ee3-404a-b2c2-1b7f99f1c2eb",
   "metadata": {},
   "outputs": [],
   "source": [
    "data_true_manual_testing.head(10)\n"
   ]
  },
  {
   "cell_type": "code",
   "execution_count": null,
   "id": "2c71f3ec-2ae0-4a12-b1ca-a93a1b58f771",
   "metadata": {},
   "outputs": [],
   "source": []
  },
  {
   "cell_type": "code",
   "execution_count": null,
   "id": "ee0f8609-7a72-4fbd-8d51-0e0332ee8057",
   "metadata": {},
   "outputs": [],
   "source": [
    "data_merge = pd.concat([data_fake, data_true], axis=0)\n",
    "data_merge.head(10)\n"
   ]
  },
  {
   "cell_type": "code",
   "execution_count": null,
   "id": "0ff2f4b5-1b60-458f-b15d-62e16193de0d",
   "metadata": {},
   "outputs": [],
   "source": [
    "data_merge.columns"
   ]
  },
  {
   "cell_type": "code",
   "execution_count": null,
   "id": "d70ebdc2-6905-4fb1-8eb5-7ef3f10b30f7",
   "metadata": {},
   "outputs": [],
   "source": [
    "data=data_merge.drop(['title','subject','date'],axis=1)"
   ]
  },
  {
   "cell_type": "code",
   "execution_count": null,
   "id": "7b20eb0a-8208-45b5-ae98-97d15f905702",
   "metadata": {},
   "outputs": [],
   "source": [
    "data.isnull().sum()"
   ]
  },
  {
   "cell_type": "code",
   "execution_count": null,
   "id": "2700f5b0-babd-4ec6-adec-b35623c413b5",
   "metadata": {},
   "outputs": [],
   "source": [
    "data=data.sample(frac=1)"
   ]
  },
  {
   "cell_type": "code",
   "execution_count": null,
   "id": "2a1d6d3d-1e20-47b6-a76e-0a6da5a7a423",
   "metadata": {},
   "outputs": [],
   "source": [
    "data.head()"
   ]
  },
  {
   "cell_type": "code",
   "execution_count": null,
   "id": "059f7dd1-d7f4-4e4a-bf20-cc27ddb6cd2c",
   "metadata": {},
   "outputs": [],
   "source": [
    "data.reset_index(inplace=True)\n",
    "data.drop(['index'],axis=1,inplace=True)\n"
   ]
  },
  {
   "cell_type": "code",
   "execution_count": null,
   "id": "943c1d62-c100-4a2a-b346-ceee1bce2faf",
   "metadata": {},
   "outputs": [],
   "source": [
    "data.columns"
   ]
  },
  {
   "cell_type": "code",
   "execution_count": null,
   "id": "b781dbf1-ec01-42e4-a174-3e53f2b1bdae",
   "metadata": {},
   "outputs": [],
   "source": [
    "import re\n",
    "import string\n",
    "\n",
    "def wordopt(text):\n",
    "    text = text.lower()\n",
    "    text = re.sub(r'\\[.*?\\]', '', text)  # Escaped properly\n",
    "    text = re.sub(r'\\\\W', '', text)  # Escaped properly\n",
    "    text = re.sub(r'https?://\\S+|www\\.\\S+', '', text)  # Escaped properly\n",
    "    text = re.sub(r'<.*?>+', '', text)\n",
    "    text = re.sub(r'[%s]' % re.escape(string.punctuation), '', text)  # Corrected 'string.punctuation'\n",
    "    text = re.sub(r'\\w*\\d\\w*', '', text)\n",
    "    text = re.sub(r'\\n', '', text)\n",
    "    return text\n"
   ]
  },
  {
   "cell_type": "code",
   "execution_count": null,
   "id": "5df85e80-8ebb-4a46-8b5c-a74356994956",
   "metadata": {},
   "outputs": [],
   "source": [
    "data['text']=data['text'].apply(wordopt)\n"
   ]
  },
  {
   "cell_type": "code",
   "execution_count": null,
   "id": "797fa30d-30d2-4689-bb70-723c87668b7e",
   "metadata": {},
   "outputs": [],
   "source": [
    "x=data['text']\n",
    "y=data['class']"
   ]
  },
  {
   "cell_type": "code",
   "execution_count": null,
   "id": "c11fce42-3937-4c54-8c22-ad3b884becaf",
   "metadata": {},
   "outputs": [],
   "source": [
    "x_train,x_test,y_train,y_test=train_test_split(x,y,test_size=0.25)"
   ]
  },
  {
   "cell_type": "code",
   "execution_count": null,
   "id": "4c9428c5-2460-44e5-a501-841a98cd13cf",
   "metadata": {},
   "outputs": [],
   "source": [
    "from sklearn.feature_extraction.text import TfidfVectorizer\n",
    "\n",
    "# Fit vectorizer only on the training data\n",
    "vectorization = TfidfVectorizer()\n",
    "xv_train = vectorization.fit_transform(x_train)  # Fit and transform on training data\n",
    "# Transform test data (do not fit again)\n",
    "xv_test = vectorization.transform(x_test)\n",
    "\n"
   ]
  },
  {
   "cell_type": "code",
   "execution_count": null,
   "id": "6ba8f66c-d412-48f7-85ec-8e09d985f280",
   "metadata": {},
   "outputs": [],
   "source": [
    "from sklearn.linear_model import LogisticRegression\n",
    "\n",
    "# Train the Logistic Regression model on training data\n",
    "LR = LogisticRegression()\n",
    "LR.fit(xv_train, y_train)\n",
    "\n"
   ]
  },
  {
   "cell_type": "code",
   "execution_count": null,
   "id": "dec70c0c-2b34-4ccc-a92f-19995c1d605a",
   "metadata": {},
   "outputs": [],
   "source": [
    "# Use the trained model to predict on the transformed test data\n",
    "predict_lr = LR.predict(xv_test)\n"
   ]
  },
  {
   "cell_type": "code",
   "execution_count": null,
   "id": "08d07fa9-b50b-4d95-9c9c-689c85453ba8",
   "metadata": {},
   "outputs": [],
   "source": [
    "LR.score(xv_test,y_test)"
   ]
  },
  {
   "cell_type": "code",
   "execution_count": null,
   "id": "2bc795b3-94b0-42ec-93fb-95224e46d764",
   "metadata": {},
   "outputs": [],
   "source": [
    "print(classification_report(y_test,predict_lr))"
   ]
  },
  {
   "cell_type": "code",
   "execution_count": null,
   "id": "a4d01b81-2197-4e4e-9ff5-9bdd72026a5e",
   "metadata": {},
   "outputs": [],
   "source": [
    "from sklearn.tree import DecisionTreeClassifier\n",
    "DT=DecisionTreeClassifier()\n",
    "DT.fit(xv_train,y_train)"
   ]
  },
  {
   "cell_type": "code",
   "execution_count": null,
   "id": "1a5b1c3f-1521-4e28-937e-828851ac76ab",
   "metadata": {},
   "outputs": [],
   "source": [
    "pred_dt=DT.predict(xv_test)"
   ]
  },
  {
   "cell_type": "code",
   "execution_count": null,
   "id": "49712d64-41db-468a-94bb-9204b70ff633",
   "metadata": {},
   "outputs": [],
   "source": [
    "DT.score(xv_test,y_test)"
   ]
  },
  {
   "cell_type": "code",
   "execution_count": null,
   "id": "a0c7088f-0dba-47a7-b295-67c8ae4bbe23",
   "metadata": {},
   "outputs": [],
   "source": [
    "print(classification_report(y_test,pred_dt))"
   ]
  },
  {
   "cell_type": "code",
   "execution_count": null,
   "id": "c627aec9-6794-4b16-a96c-42928513535d",
   "metadata": {},
   "outputs": [],
   "source": [
    "from sklearn.ensemble import GradientBoostingClassifier\n",
    "GB=GradientBoostingClassifier(random_state=0)\n",
    "GB.fit(xv_train,y_train)"
   ]
  },
  {
   "cell_type": "code",
   "execution_count": null,
   "id": "2f020409-350f-4147-a358-86a101f7c9fb",
   "metadata": {},
   "outputs": [],
   "source": [
    "pred_gb=GB.predict(xv_test)"
   ]
  },
  {
   "cell_type": "code",
   "execution_count": null,
   "id": "fa072552-7a87-4d0b-82bd-202ecf804440",
   "metadata": {},
   "outputs": [],
   "source": [
    "GB.score(xv_test,y_test)"
   ]
  },
  {
   "cell_type": "code",
   "execution_count": null,
   "id": "19702c55-7c67-48ad-8900-ca80c07a3001",
   "metadata": {},
   "outputs": [],
   "source": [
    "print(classification_report(y_test,pred_gb))"
   ]
  },
  {
   "cell_type": "code",
   "execution_count": null,
   "id": "0dbd5e4c-fe28-4d01-a66d-0462a74665de",
   "metadata": {},
   "outputs": [],
   "source": [
    "from sklearn.ensemble import RandomForestClassifier\n",
    "RF=RandomForestClassifier(random_state=0)\n",
    "RF.fit(xv_train,y_train)\n"
   ]
  },
  {
   "cell_type": "code",
   "execution_count": null,
   "id": "90d9627f-6b9a-466c-b91c-aa658ae8116f",
   "metadata": {},
   "outputs": [],
   "source": [
    "pred_rf=RF.predict(xv_test)"
   ]
  },
  {
   "cell_type": "code",
   "execution_count": null,
   "id": "51f8a307-9961-4de7-b707-d3051e4d1774",
   "metadata": {},
   "outputs": [],
   "source": [
    "RF.score(xv_test,y_test)"
   ]
  },
  {
   "cell_type": "code",
   "execution_count": null,
   "id": "bc332f3f-381b-49af-a373-be923bf23d6e",
   "metadata": {},
   "outputs": [],
   "source": [
    "print(classification_report(y_test,pred_rf))"
   ]
  },
  {
   "cell_type": "code",
   "execution_count": null,
   "id": "755ef2fc-3334-4623-b05f-cb48cc8ef885",
   "metadata": {},
   "outputs": [],
   "source": [
    "def output_table(n):\n",
    "    if n==0:\n",
    "        return \"Fake News\"\n",
    "    elif n==1:\n",
    "        return \"Not Fake News\"\n",
    "\n",
    "def manual_testing(news):\n",
    "    testing_news={\"test\":[news]}\n",
    "    new_def_test=pd.dataframe(testing_news)\n",
    "    \n",
    "    new_def_test=new_def_test[\"text\"].apply(wordopt)\n",
    "    \n",
    "    new_x_test=new_def_test[\"text\"]\n",
    "    \n",
    "    new_xv_test=vectorization.fit_transform(new_x_test)\n",
    "    pred_LR=LR.predict(new_xv_test)\n",
    "    pred_DT=LR.predict(new_xv_test)\n",
    "    pred_GBC=LR.predict(new_xv_test)\n",
    "    pred_RFC=LR.predict(new_xv_test)\n",
    "    return print(\"\\n\\nLR Prediction:{} \\nDT Prediction :{}\\ nRFC Prediction:{}\".format(output_lable(pred_LR[0]),\n",
    "                                                                                      output_lable(pred_GB[0]),\n",
    "                                                                                      output_lable(pred_RF[0])))"
   ]
  },
  {
   "cell_type": "code",
   "execution_count": null,
   "id": "605cc8db-8849-4eed-8334-ccc556ac2dbd",
   "metadata": {},
   "outputs": [],
   "source": [
    "news=str(input())\n",
    "manual_testing(news)"
   ]
  },
  {
   "cell_type": "code",
   "execution_count": null,
   "id": "eefcba6c-1874-407c-993a-9b5e2919f661",
   "metadata": {},
   "outputs": [],
   "source": [
    "\n",
    "\n"
   ]
  }
 ],
 "metadata": {
  "kernelspec": {
   "display_name": "Python 3 (ipykernel)",
   "language": "python",
   "name": "python3"
  },
  "language_info": {
   "codemirror_mode": {
    "name": "ipython",
    "version": 3
   },
   "file_extension": ".py",
   "mimetype": "text/x-python",
   "name": "python",
   "nbconvert_exporter": "python",
   "pygments_lexer": "ipython3",
   "version": "3.12.4"
  }
 },
 "nbformat": 4,
 "nbformat_minor": 5
}
